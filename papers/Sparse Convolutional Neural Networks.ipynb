{
 "cells": [
  {
   "cell_type": "markdown",
   "metadata": {},
   "source": [
    "# Sparse Convolutional Neural Networks"
   ]
  },
  {
   "cell_type": "markdown",
   "metadata": {},
   "source": [
    "## Dense Matrix Multiplication in OpenBLAS\n",
    "\n",
    "Speed up matrix multiplication\n",
    "+ SIMD instructions\n",
    "+ Caches (reduce memory access latency)\n",
    "\n",
    "Implement matrix multiplication: AVX instruction sets:\n",
    "\n",
    "1 256-bit register saves 8 float numbers(32 bit each) => 8 pairs of float numbers can be multiplied and added simultaneously in one cycle of each CPU core"
   ]
  },
  {
   "cell_type": "markdown",
   "metadata": {},
   "source": [
    "## Basic Ideas\n",
    "Decomposes matrix for $\\mathbf{O} = \\mathbf{I} \\times \\mathbf{K}$"
   ]
  }
 ],
 "metadata": {
  "kernelspec": {
   "display_name": "Python 3",
   "language": "python",
   "name": "python3"
  },
  "language_info": {
   "codemirror_mode": {
    "name": "ipython",
    "version": 3
   },
   "file_extension": ".py",
   "mimetype": "text/x-python",
   "name": "python",
   "nbconvert_exporter": "python",
   "pygments_lexer": "ipython3",
   "version": "3.6.4"
  }
 },
 "nbformat": 4,
 "nbformat_minor": 2
}
