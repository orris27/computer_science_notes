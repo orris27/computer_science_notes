{
 "cells": [
  {
   "cell_type": "markdown",
   "metadata": {},
   "source": [
    "## Newton's Method\n",
    "Jacobian or Hessian matrix\n",
    "\n",
    "Suppose $\\mathbf{f}: \\mathbb{R}^n \\rightarrow \\mathbb{R}^m$ is a function whose first-order partial derivatives exist on $\\mathbb{R}^n$. This function takes a point $\\mathbf{x} \\in \\mathbb{R}^n$ as input and outputs a vector $\\mathbf{f}(\\mathbf{x}) \\in \\mathbb{R}^m$. Each element in output $\\mathbf{f}(\\mathbf{x})$ has a corresponding function denoted as $\\mathbf{f}_i: \\mathbb{R}^n \\rightarrow \\mathbb{R}, i = 1, 2, \\cdots, m$. The Jacobian matrix is:\n",
    "$$\n",
    "\\mathbf{J} = [\\frac{\\partial \\mathbf{f}}{\\partial x_1}, \\frac{\\partial \\mathbf{f}}{\\partial x_2}, \\cdots, \\frac{\\partial \\mathbf{f}}{\\partial x_n}] = \\begin{bmatrix}\n",
    "\\frac{\\partial f_1}{\\partial x_0} & \\frac{\\partial f_1}{\\partial x_1} & \\cdots & \\frac{\\partial f_1}{\\partial x_{m-1}} \\\\\n",
    "\\vdots & \\vdots & \\cdots & \\vdots \\\\\n",
    "\\frac{\\partial \\mathbf{f}_{m-1}(\\overrightarrow{x})}{\\partial x_1} & \\frac{\\partial \\mathbf{f}_{m-1}(\\overrightarrow{x})}{\\partial x_2} & \\cdots & \\frac{\\partial \\mathbf{f}_{m-1}(\\overrightarrow{x})}{\\partial x_n} \\\\\n",
    "\\end{bmatrix}\n",
    "$$"
   ]
  }
 ],
 "metadata": {
  "kernelspec": {
   "display_name": "Python 3",
   "language": "python",
   "name": "python3"
  },
  "language_info": {
   "codemirror_mode": {
    "name": "ipython",
    "version": 3
   },
   "file_extension": ".py",
   "mimetype": "text/x-python",
   "name": "python",
   "nbconvert_exporter": "python",
   "pygments_lexer": "ipython3",
   "version": "3.6.4"
  }
 },
 "nbformat": 4,
 "nbformat_minor": 2
}
