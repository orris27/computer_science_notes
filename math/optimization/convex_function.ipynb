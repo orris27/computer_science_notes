{
 "cells": [
  {
   "cell_type": "markdown",
   "metadata": {},
   "source": [
    "## Convex Function\n",
    "[wiki](https://en.wikipedia.org/wiki/Convex_function#Strongly_convex_functions)\n",
    "### Definition\n",
    "#### 1. Convex function\n",
    "A function is called convex if:\n",
    "$$\n",
    "\\forall x_1, x_2 \\in \\mathbf{X}, \\forall t \\in [0, 1]:  f(t x_1 + (1-t) x_2) \\leq tf(x_1) + (1-t)f(x_2)\n",
    "$$\n",
    "#### 2. Strictly convex function\n",
    "A function is called strictly convex if:\n",
    "$$\n",
    "\\forall x_1 \\ne x_2 \\in \\mathbf{X}, \\forall t \\in [0, 1]:  f(t x_1 + (1-t) x_2) \\lt tf(x_1) + (1-t)f(x_2)\n",
    "$$\n",
    "####  3. Strongly convex functions\n",
    "\n",
    "A strongly convex function is also strictly convex, but not vice versa.\n",
    "\n",
    "There are many definitions:\n",
    "1. A differentiable function $f$ is called strongly convex with parameter $m > 0$ if the following inequality holds for all the points $x$, $y$ in its domain:\n",
    "$$\n",
    "(\\bigtriangledown f(x) - \\bigtriangledown f(y))^T (x - y) \\geq m \\lVert x - y \\rVert_2^2\n",
    "$$\n",
    "2. A equivalent condition is the following:\n",
    "$$\n",
    "f(y) \\geq f(x) + \\bigtriangledown f(x)^T (y - x) + \\frac{m}{2} \\lVert y -x \\rVert_2^2\n",
    "$$\n",
    "3. It is not necessary for a function to be differentiable in order to be strongly convex. A third definition for a strongly convex function, with parameter $m$, is that, for all $x$, $y$ in the domain and $t \\in [0, 1]$,\n",
    "$$\n",
    "f(tx + (1-t)y) \\leq tf(x) + (1-t)f(y) - \\frac{m}{2} t(1-t)\\lVert x - y \\rVert_2^2\n",
    "$$\n",
    "\n",
    "The parameter $m$ is called the *convexity parameter*."
   ]
  }
 ],
 "metadata": {
  "kernelspec": {
   "display_name": "Python 3",
   "language": "python",
   "name": "python3"
  },
  "language_info": {
   "codemirror_mode": {
    "name": "ipython",
    "version": 3
   },
   "file_extension": ".py",
   "mimetype": "text/x-python",
   "name": "python",
   "nbconvert_exporter": "python",
   "pygments_lexer": "ipython3",
   "version": "3.6.4"
  }
 },
 "nbformat": 4,
 "nbformat_minor": 2
}
