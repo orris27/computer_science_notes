{
 "cells": [
  {
   "cell_type": "markdown",
   "metadata": {},
   "source": [
    "# Indoor Positioning"
   ]
  },
  {
   "cell_type": "markdown",
   "metadata": {},
   "source": [
    "## Theory\n",
    "\n",
    "MAC + RSSI(Received Signal Strength Indicator)\n",
    "\n",
    "+ RSSI: $[0, -100]$. The larger RSSI is, the more intense a signal is."
   ]
  },
  {
   "cell_type": "markdown",
   "metadata": {},
   "source": [
    "### Idea\n",
    "1. Divide the area into multiple grids\n",
    "2. Build the fingerprint database: $(X, Y, [(\\text{MAC}_1, \\text{RSSI}_1), (\\text{MAC}_2, \\text{RSSI}_2, \\cdots, (\\text{MAC}_n, \\text{RSSI}_n))])$\n",
    "    + When we compute RSSIs for one position, it might fluctuate, so we need to preprocess these signals\n",
    "    + Both the mobile device and server can save the library\n",
    "3. Obtain the vector of $([(\\text{MAC}_1, \\text{RSSI}_1), (\\text{MAC}_2, \\text{RSSI}_2, \\cdots, (\\text{MAC}_n, \\text{RSSI}_n))])$ for user\n",
    "    + Filter out improper data\n",
    "    \n",
    "4. Match the user vector in the fingerprint library data, and predict the user's location\n"
   ]
  },
  {
   "cell_type": "markdown",
   "metadata": {},
   "source": [
    "### 1. WKNN (Weighted KNN)\n",
    "#### Steps\n",
    "1. Filter out unnecessary signals based on MAC. <!-- What is an unnecessary signal? How can we filter out them? -->\n",
    "2. Find out the $k$ fingerprint points that is closet to the user by measuring RSSI. <!-- Is the distance measured by the RSSI, i.e., the larger RSSI is, the close the signal is to the user? -->\n",
    "3. Get $(x, y)$ from $k$ fingerprint points and compute their weighted average as follows:\n",
    "$$\n",
    "(\\hat{x}, \\hat{y}) = \\sum_{i=1}^K \\frac{\\frac{1}{D_i + \\epsilon}}{\\sum_{j=1}^K{\\frac{1}{D_j + \\epsilon}}}(x_i, y_i)\n",
    "$$\n",
    "\n",
    "\n",
    "#### Distance\n",
    "$$\n",
    "RSSI=\\begin{bmatrix}\n",
    "(x_1, y_1) & rssi_{11} & rssi_{12} & \\dots & rssi_{1n} \\\\\n",
    "(x_2, y_2) & rssi_{21} & rssi_{22} & \\dots & rssi_{2n} \\\\\n",
    "\\vdots & \\vdots & \\vdots & & \\vdots \\\\\n",
    "(x_p, y_p) & rssi_{p1} & rssi_{p2} & \\dots & rssi_{pn} \\\\\n",
    "\\end{bmatrix}\n",
    "$$\n",
    "\\begin{align}\n",
    "D_m = (\\sum_{j=1}^m \\vert \\text{rssi}_j - \\text{RSSI}_{pm}  \\rvert^q )^{\\frac{1}{q}}, j = 1, 2, \\cdots, m, 1 \\leq m \\leq n \\label{eq:distance}\\tag{1}\n",
    "\\end{align}\n",
    "\n",
    "#### Weight in Averaging\n",
    "The closer a signal is to the user, the weight is larger. The distance is computed as (\\ref{eq:distance}) and we simply choose its reverse as its weight.\n",
    "+ $\\epsilon$: Avoid division by zero. Example is $0.000001$"
   ]
  },
  {
   "cell_type": "markdown",
   "metadata": {},
   "source": [
    "+ $p$: Number of fingerprint points in database\n",
    "+ $n$: Number of signals.\n",
    "+ $m$: Number of rssi. The user collects a vector of rssi, i.e., $[\\text{rssi}_1, \\text{rssi}_2, \\cdots, \\text{rssi}_m]$. The reason that $m \\leq n$ is we filter out unncessary signals in Step 1.\n",
    "+ $q$: If $q$ is selected as $2$, we compute the Euclidean distance\n"
   ]
  },
  {
   "cell_type": "markdown",
   "metadata": {},
   "source": [
    "## Signal Preprocessing\n",
    "+ filter\n",
    "+ cluster\n"
   ]
  },
  {
   "cell_type": "markdown",
   "metadata": {},
   "source": [
    "### Common Approach in fingerprint filtering\n",
    "#### 1. deterministic denoising\n",
    "+ Channel Propagation Model Denoising\n",
    "+ Median Filter: Select the median number in the window. See details and examples in [Median_filter Wiki](https://en.wikipedia.org/wiki/Median_filter)\n",
    "+ Neighborhood Mean Filtering\n",
    "\n",
    "#### 2. probabilistic denoising"
   ]
  }
 ],
 "metadata": {
  "kernelspec": {
   "display_name": "Python 3",
   "language": "python",
   "name": "python3"
  },
  "language_info": {
   "codemirror_mode": {
    "name": "ipython",
    "version": 3
   },
   "file_extension": ".py",
   "mimetype": "text/x-python",
   "name": "python",
   "nbconvert_exporter": "python",
   "pygments_lexer": "ipython3",
   "version": "3.6.4"
  }
 },
 "nbformat": 4,
 "nbformat_minor": 2
}
